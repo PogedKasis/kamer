{
 "cells": [
  {
   "cell_type": "code",
   "execution_count": 10,
   "metadata": {},
   "outputs": [],
   "source": [
    "import math as mt"
   ]
  },
  {
   "cell_type": "markdown",
   "metadata": {},
   "source": [
    "## Исходныее данные"
   ]
  },
  {
   "cell_type": "code",
   "execution_count": 14,
   "metadata": {},
   "outputs": [],
   "source": [
    "T_g = 1400\n",
    "G_g = 170\n",
    "l_lop = 0.05\n",
    "D_sr = 0.55\n",
    "alfa_0 = 90 * mt.pi / 180\n",
    "alfa_1 = 20 * mt.pi / 180\n",
    "s  = 0.06\n",
    "delta = 0.0015\n",
    "d_vx_kr = 0.006\n",
    "T_st = 1100\n",
    "tetta_0 = 700\n",
    "mu_g = 4.81 * (10**(-5))\n",
    "lambda_g = 0.0802"
   ]
  },
  {
   "cell_type": "markdown",
   "metadata": {},
   "source": [
    "# Число Рейнольдса "
   ]
  },
  {
   "cell_type": "code",
   "execution_count": 19,
   "metadata": {},
   "outputs": [
    {
     "name": "stdout",
     "output_type": "stream",
     "text": [
      "Re = 170*0.06 / (3.141592653589793 * 0.55 * 0.05 * 4.81e-05 * 0.3420201433256687) = 7176634.759072918\n",
      "7176634.759072918\n"
     ]
    }
   ],
   "source": [
    "Re_g = G_g*s / (mt.pi * D_sr * l_lop * mu_g * mt.sin(alfa_1))\n",
    "print(f'Re = {G_g}*{s} / ({mt.pi} * {D_sr} * {l_lop} * {mu_g} * {mt.sin(alfa_1)}) = {Re_g}')\n",
    "print(str(Re_g))"
   ]
  },
  {
   "cell_type": "code",
   "execution_count": null,
   "metadata": {},
   "outputs": [],
   "source": []
  }
 ],
 "metadata": {
  "kernelspec": {
   "display_name": "Python 3",
   "language": "python",
   "name": "python3"
  },
  "language_info": {
   "codemirror_mode": {
    "name": "ipython",
    "version": 3
   },
   "file_extension": ".py",
   "mimetype": "text/x-python",
   "name": "python",
   "nbconvert_exporter": "python",
   "pygments_lexer": "ipython3",
   "version": "3.8.3"
  }
 },
 "nbformat": 4,
 "nbformat_minor": 4
}
